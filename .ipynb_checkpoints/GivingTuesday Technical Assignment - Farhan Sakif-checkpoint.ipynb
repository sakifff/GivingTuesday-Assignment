{
 "cells": [
  {
   "cell_type": "markdown",
   "id": "ee575f34",
   "metadata": {},
   "source": [
    "# GivingTuesday Technical Assignment\n",
    "\n",
    "### Farhan Sakif (farhan.sakif@gmail.com)"
   ]
  },
  {
   "cell_type": "code",
   "execution_count": 1,
   "id": "9bbc778f",
   "metadata": {},
   "outputs": [],
   "source": [
    "import pandas as pd\n",
    "import numpy as np\n",
    "import matplotlib.pyplot as plt\n",
    "import seaborn as sns"
   ]
  },
  {
   "cell_type": "code",
   "execution_count": null,
   "id": "5a94cbcd",
   "metadata": {},
   "outputs": [],
   "source": [
    "df = pd.read_excel(\"21eoextractez.xlsx\")"
   ]
  },
  {
   "cell_type": "code",
   "execution_count": null,
   "id": "cbaa7bca",
   "metadata": {},
   "outputs": [],
   "source": [
    "df.head()"
   ]
  },
  {
   "cell_type": "markdown",
   "id": "98f28532",
   "metadata": {},
   "source": [
    "## Quickly characterize the grain of the data \n",
    "\n",
    "- Declaring the grain involves describing in detail what the data table records signify (level of measurement of the data stored).  Examples of declarations of the grain include weekly inventory counts of every item sold in every store or an individual transaction against an insurance policy. \n",
    "\n",
    "- The dataset that is mainly being looked at for this assignment are the Exempt Organization Returns Filed in Calendar Year 2021 (form 990-EZ Extract).\n",
    "\n",
    "- For these datasets, the rows in the IRS extract dataset can be characterized by the EIN (employer identification number) column where each row contains financial information related to the company such as total revenue, total expenses, gross sales of inventory etc. Similarly the EOBMF datasets also can be characterized by the EIN number and name of the organization where each row in the dataset contains exempt organization information. According to the documentation, the dataset is a cumulative file."
   ]
  },
  {
   "cell_type": "markdown",
   "id": "5802ba52",
   "metadata": {},
   "source": [
    "## Characterizing the broad categories of data\n",
    "\n",
    "- The IRS extract dataset can be broadly categorized as containing financial information of the companies present in the data. Categories of information include income statement based data such as information about revenue, expenses and net profit, balance sheet based data such as assets and liabilities and data based on cash flows that highlights operating activities, investment activities and financing activities"
   ]
  },
  {
   "cell_type": "markdown",
   "id": "a02f5250",
   "metadata": {},
   "source": [
    "## Defining a business problem\n",
    "\n",
    "Non-profit organizations usually have a mission statement that has to do with bettering the world we live in. So while being profitable might not be the main focus of such organizations, having strong financial controls and procedures can significantly help in reaching organizations' goals. The IRS data provides an in depth look at the financial workings of non-profit organizations and with the context of the work done by GivingTuesday, an interesting business problem can be one that looks at the financial data of these organizations to get a better picture into the overall health and business dealings of the non-profit organizations. In other words, this data can possibly help answer questions such as how effective the non-profits present in this dataset are at achieving their mission statement.\n",
    "\n",
    "It can be assumed that non-profits that run efficiently are the ones that turns majority of their contributions received, donations and other funds towards their mission statement whereas poorly run organizations take practice in exorbitant expenses that result in a smaller percentage of their funds to actually help people and causes\n",
    "\n",
    "With this in mind, the next obvious question is how do we exactly define a healthy non-profit organization?\n",
    "\n",
    "- I would argue a good place to start is to look at their revenue and expenses statistics\n",
    "- Another place that could be looked at is the gross profit from sales of inventory column as well as from my understanding that is a good measure of to what extent the non-profit in question is self-sustainable."
   ]
  },
  {
   "cell_type": "code",
   "execution_count": null,
   "id": "36983daf",
   "metadata": {},
   "outputs": [],
   "source": [
    "df.describe()"
   ]
  },
  {
   "cell_type": "code",
   "execution_count": null,
   "id": "91246037",
   "metadata": {},
   "outputs": [],
   "source": [
    "dff = df[['totrevnue', 'totexpns', 'grsprft']]\n",
    "\n",
    "print(dff.describe())\n",
    "'''Can be seen that a lot of the values for gross profit is 0, which makes sense because a lot of non-profits\n",
    "do not exactly have inventory to sell'''"
   ]
  },
  {
   "cell_type": "code",
   "execution_count": null,
   "id": "498576e9",
   "metadata": {
    "scrolled": false
   },
   "outputs": [],
   "source": [
    "'''It is a good idea to start by looking at features that are highly correlated with total revenue in the dataset'''\n",
    "\n",
    "correlation = df.corr()\n",
    "\n",
    "#correlation matrix\n",
    "\n",
    "fig, ax = plt.subplots(figsize=(10, 10))\n",
    "\n",
    "k = 10 #number of variables for heatmap\n",
    "cols = correlation.nlargest(k, 'totrevnue')['totrevnue'].index\n",
    "\n",
    "cm = np.corrcoef(df[cols].values.T)\n",
    "\n",
    "sns.set(font_scale=1.25)\n",
    "fig = sns.heatmap(cm, cbar=True, annot=True, square=True, fmt='.2f', annot_kws={'size': 10}, \n",
    "                 yticklabels=cols.values, xticklabels=cols.values)\n",
    "plt.show()"
   ]
  },
  {
   "cell_type": "markdown",
   "id": "564a653e",
   "metadata": {},
   "source": [
    "- It can be seen that totrevnue is correlated with totcntrbs (total contributions) and totexpns (total expenses)"
   ]
  },
  {
   "cell_type": "markdown",
   "id": "5b653432",
   "metadata": {},
   "source": [
    "## Some rudimentary data visualization"
   ]
  },
  {
   "cell_type": "code",
   "execution_count": null,
   "id": "87b00746",
   "metadata": {},
   "outputs": [],
   "source": [
    "# Using interquartile range to find and remove outliers for some basic visualization\n",
    "# I tried without removing the outliers but the visualizations become a little too unmanageable to look at\n",
    "\n",
    "columns = ['totrevnue', 'totcntrbs', 'totexpns']\n",
    "for i in columns:\n",
    "\n",
    "    Q1 = np.percentile(df[str(i)], 25,\n",
    "                       interpolation = 'midpoint')\n",
    " \n",
    "    Q3 = np.percentile(df[str(i)], 75,\n",
    "                       interpolation = 'midpoint')\n",
    "    IQR = Q3 - Q1\n",
    "\n",
    "    print(\"Old Shape: \", df.shape)\n",
    "\n",
    "    # Upper bound\n",
    "    upper = np.where(df[str(i)] >= (Q3+1.5*IQR))\n",
    "    # Lower bound\n",
    "    lower = np.where(df[str(i)] <= (Q1-1.5*IQR))\n",
    "\n",
    "    #Removing the Outliers\n",
    "\n",
    "    try:\n",
    "        df.drop(upper[0], inplace = True)\n",
    "        df.drop(lower[0], inplace = True)\n",
    "    except KeyError:\n",
    "        print('Already removed')\n",
    "\n",
    "    print(\"New Shape: \", df.shape)\n",
    "    "
   ]
  },
  {
   "cell_type": "code",
   "execution_count": null,
   "id": "63fb5cfa",
   "metadata": {},
   "outputs": [],
   "source": [
    "sns.set(rc={\"figure.figsize\":(10, 10)})\n",
    "sns.scatterplot(data = df, x='totcntrbs', y='totrevnue').set(title='Total revenue vs total contributions received')"
   ]
  },
  {
   "cell_type": "markdown",
   "id": "f83dc9bf",
   "metadata": {},
   "source": [
    "- From the above visualization it can be seen that there is a presence of a large number of organizations whose total revenue and total contributions is perfectly correlated, suggesting that that is their only revenue stream.\n",
    "\n",
    "- It can also be seen that there is a presence of a number of organizations whose contributions fall under 0 but with high revenue\n",
    "\n",
    "    - And majority of the non-profits in between the first two types discussed.\n",
    "\n",
    "- And finally it can be seen that there are a lots of organizations who receive a lot more contributions than their total revenue, implying losses are being made somehow (some even showing negative revenue).\n",
    "\n",
    "This is already a good starting point for indicating the financial health of these non-profits."
   ]
  },
  {
   "cell_type": "code",
   "execution_count": null,
   "id": "96181c82",
   "metadata": {},
   "outputs": [],
   "source": [
    "df = df[df.totexpns < 1*1e6] #removing some extra outliers\n",
    "\n",
    "sns.set(rc={\"figure.figsize\":(10, 10)})\n",
    "sns.scatterplot(data = df, x='totexpns', y='totrevnue').set(title='Total revenue vs total expenses')"
   ]
  },
  {
   "cell_type": "code",
   "execution_count": null,
   "id": "2066ac91",
   "metadata": {},
   "outputs": [],
   "source": [
    "df['profit'] = df.totrevnue - df.totexpns\n",
    "\n",
    "perc = ((df.profit > -1).sum() / len(df) * 100)\n",
    "\n",
    "print(str(perc) + \"% of the non-profit organizations present in this dataset either breaks even or has profited.\")\n",
    "print(\"On average, these organizations have a total revenue of \" + str(df.totrevnue.mean()) + \n",
    "      \" and a total expenses of \" + str(df.totexpns.mean()) + \".\")"
   ]
  },
  {
   "cell_type": "markdown",
   "id": "4281a82e",
   "metadata": {},
   "source": [
    "## Where to go from here\n",
    "\n",
    "This dataset gives valuable insight to the financial state of all these non-profit organizations and the analysis done above is very rudimentary and should be considered as just a starting point. This analysis can be further expanded by looking at and analyzing the data on companies' assets and liabilities, investments, public support metrics (all of which are already included in the dataset).\n",
    "\n",
    "In the interest of time and lack of computing power, I did not attempt this but the IRS website has the returns data for all years dating back to 2012. This historical data can be leveraged to look at the trends from the past and potentially see where it can go in the future possibly using time series or regression analysis. This can also be further expanded on by not just looking at the health of individual organizations and finding the ones in great shape but also it can be used to look at the overall macro health of the non-profit ecosystem as well (especially when considering the EOBMF datasets covers every region in the USA and multiple international regions too). This can provide very important insight as to how the ecosystem changes due to prominent events such as the COVID-19 pandemic."
   ]
  },
  {
   "cell_type": "code",
   "execution_count": null,
   "id": "78c0b9a3",
   "metadata": {},
   "outputs": [],
   "source": []
  }
 ],
 "metadata": {
  "kernelspec": {
   "display_name": "Python 3",
   "language": "python",
   "name": "python3"
  },
  "language_info": {
   "codemirror_mode": {
    "name": "ipython",
    "version": 3
   },
   "file_extension": ".py",
   "mimetype": "text/x-python",
   "name": "python",
   "nbconvert_exporter": "python",
   "pygments_lexer": "ipython3",
   "version": "3.8.5"
  }
 },
 "nbformat": 4,
 "nbformat_minor": 5
}
